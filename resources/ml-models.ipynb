{
 "cells": [
  {
   "cell_type": "code",
   "execution_count": 1,
   "metadata": {},
   "outputs": [],
   "source": [
    "# import required modules\n",
    "# data wrangling and types modules\n",
    "import pandas as pd\n",
    "from pandas import DataFrame\n",
    "from typing import Dict, List\n",
    "import numpy as np\n",
    "\n",
    "from imblearn.pipeline import Pipeline\n",
    "from imblearn.combine import SMOTEENN\n",
    "from imblearn.under_sampling import EditedNearestNeighbours\n",
    "from imblearn.over_sampling import SMOTE, SMOTEN\n",
    "from collections import Counter\n",
    "\n",
    "from sklearn.model_selection import train_test_split, GridSearchCV, StratifiedKFold, RepeatedStratifiedKFold, cross_validate\n",
    "from sklearn.metrics import roc_auc_score, f1_score, average_precision_score, confusion_matrix, recall_score, precision_recall_curve, auc, roc_curve, log_loss\n",
    "from sklearn.feature_selection import SelectKBest, chi2\n",
    "\n",
    "\n",
    "from multiprocessing import Pool\n",
    "from numpy import mean\n",
    "from numpy import std\n",
    "# from sklearn.model_selection import cross_val_score\n",
    "# from sklearn.model_selection import cross_validate\n",
    "# from sklearn.model_selection import RepeatedStratifiedKFold\n",
    "from sklearn.linear_model import LogisticRegression\n",
    "from sklearn.tree import DecisionTreeClassifier\n",
    "from sklearn.svm import SVC\n",
    "from sklearn.neighbors import KNeighborsClassifier\n",
    "# from sklearn.ensemble import StackingClassifier\n",
    "from sklearn.naive_bayes import GaussianNB\n",
    "from sklearn.neural_network import MLPClassifier\n",
    "from sklearn.ensemble import RandomForestClassifier\n",
    "from sklearn.ensemble import AdaBoostClassifier\n",
    "from sklearn.ensemble import BaggingClassifier\n",
    "import xgboost as xgb\n",
    "import catboost as cat\n",
    "\n",
    "from sklearn.metrics import matthews_corrcoef \n",
    "from sklearn.metrics import make_scorer\n",
    "import time\n",
    "import sklearn\n",
    "\n",
    "import matplotlib.pyplot as plt\n",
    "import seaborn as sns\n"
   ]
  },
  {
   "cell_type": "markdown",
   "metadata": {},
   "source": [
    "TODO\n",
    "\n",
    "6. write algorithms\n",
    "7. test and evaluate algorithms\n",
    "8. use hydra for config management\n"
   ]
  },
  {
   "cell_type": "markdown",
   "metadata": {},
   "source": [
    "## Importing Data and Data Exploration\n",
    "\n",
    "This section deals with data imports and exploration.\n",
    "The data is imported as a csv using pandas and converted to a pandas dataframe.\n",
    "There are no null values within the dataset, there are 32769 entries in the dataset.\n",
    "The distribution of access results, are Granted(1): 30872, Denied(0): 1897. \n",
    "This shows an imbalance in the dataset. The columns of the dataset all contain\n",
    "integer values , but going by the dataset description, these integer values are\n",
    "not real numbers but placeholders for categorical/identifying variables. They must\n",
    "then be converted to strings in order to how have the number size influence\n",
    "the machine models\n"
   ]
  },
  {
   "cell_type": "code",
   "execution_count": 2,
   "metadata": {},
   "outputs": [
    {
     "name": "stdout",
     "output_type": "stream",
     "text": [
      "<class 'pandas.core.frame.DataFrame'>\n",
      "RangeIndex: 32769 entries, 0 to 32768\n",
      "Data columns (total 10 columns):\n",
      " #   Column            Non-Null Count  Dtype\n",
      "---  ------            --------------  -----\n",
      " 0   ACTION            32769 non-null  int64\n",
      " 1   RESOURCE          32769 non-null  int64\n",
      " 2   MGR_ID            32769 non-null  int64\n",
      " 3   ROLE_ROLLUP_1     32769 non-null  int64\n",
      " 4   ROLE_ROLLUP_2     32769 non-null  int64\n",
      " 5   ROLE_DEPTNAME     32769 non-null  int64\n",
      " 6   ROLE_TITLE        32769 non-null  int64\n",
      " 7   ROLE_FAMILY_DESC  32769 non-null  int64\n",
      " 8   ROLE_FAMILY       32769 non-null  int64\n",
      " 9   ROLE_CODE         32769 non-null  int64\n",
      "dtypes: int64(10)\n",
      "memory usage: 2.5 MB\n"
     ]
    },
    {
     "data": {
      "text/plain": [
       "1    30872\n",
       "0     1897\n",
       "Name: ACTION, dtype: int64"
      ]
     },
     "execution_count": 2,
     "metadata": {},
     "output_type": "execute_result"
    }
   ],
   "source": [
    "# import data\n",
    "amazon_data = pd.read_csv(\"./datasets/train.csv\")\n",
    "\n",
    "# check data details\n",
    "amazon_data.info()\n",
    "\n",
    "# check class distribution\n",
    "amazon_data['ACTION'].value_counts()\n"
   ]
  },
  {
   "cell_type": "code",
   "execution_count": 3,
   "metadata": {},
   "outputs": [
    {
     "name": "stdout",
     "output_type": "stream",
     "text": [
      "<class 'pandas.core.frame.DataFrame'>\n",
      "RangeIndex: 32769 entries, 0 to 32768\n",
      "Data columns (total 10 columns):\n",
      " #   Column            Non-Null Count  Dtype\n",
      "---  ------            --------------  -----\n",
      " 0   ACTION            32769 non-null  int64\n",
      " 1   RESOURCE          32769 non-null  int64\n",
      " 2   MGR_ID            32769 non-null  int64\n",
      " 3   ROLE_ROLLUP_1     32769 non-null  int64\n",
      " 4   ROLE_ROLLUP_2     32769 non-null  int64\n",
      " 5   ROLE_DEPTNAME     32769 non-null  int64\n",
      " 6   ROLE_TITLE        32769 non-null  int64\n",
      " 7   ROLE_FAMILY_DESC  32769 non-null  int64\n",
      " 8   ROLE_FAMILY       32769 non-null  int64\n",
      " 9   ROLE_CODE         32769 non-null  int64\n",
      "dtypes: int64(10)\n",
      "memory usage: 2.5 MB\n"
     ]
    }
   ],
   "source": [
    "# convert columns to strings because they are categorial/identifiers\n",
    "amazon_data_wrang = amazon_data.astype(\n",
    "                    {\n",
    "                        \"RESOURCE\": str,\n",
    "                        \"MGR_ID\": str,\n",
    "                        \"ROLE_ROLLUP_1\": str,\n",
    "                        \"ROLE_ROLLUP_2\": str,\n",
    "                        \"ROLE_DEPTNAME\": str,\n",
    "                        \"ROLE_TITLE\": str,\n",
    "                        \"ROLE_FAMILY_DESC\": str,\n",
    "                        \"ROLE_FAMILY\": str,\n",
    "                        \"ROLE_CODE\": str\n",
    "                    \n",
    "                    }\n",
    ")\n",
    "\n",
    "amazon_data.info()"
   ]
  },
  {
   "cell_type": "markdown",
   "metadata": {},
   "source": [
    "# Data Resampling\n",
    "\n",
    "Before continuing with data exploration, due to the distribution of the data in this dataset; 16:1, \n",
    "for Access Granted versus Access denied, \n",
    "some resampling has to be done to make the data more balanced. This is done for various reasons, namely:\n",
    "1. To improve the performance of the algorithm: when a machine learning model is trained on imbalanced data the \n",
    "experience of the model is usually skewed towards the majority class. In severe cases the model may not have any\n",
    "discriminatory power concerning the minority class.\n",
    "2. To make evaluation metrics more meaningful. When working with imbalanced datasets it is important to realise that\n",
    "metrics such as accuracy, Mean Average Error can become misleading. The overwhelming nature of one class means that \n",
    "a model with 80% accuracy on a dataset with 8:1 distribution will be accurate on one class and have random behavior\n",
    "on the minority class.\n",
    "To resample a dataset, oversampling or undersampling can be used\n",
    "Describe Oversampling and UnderSampling\n",
    "Using an combination of the two here SMOTE and ENN(Edited Nearest Neighbors)\n",
    "\n",
    "Explore the Data to see the distribution of the columns\n",
    "\n",
    "Then Resample using imblearn to create pipeline of the features"
   ]
  },
  {
   "cell_type": "code",
   "execution_count": 4,
   "metadata": {},
   "outputs": [],
   "source": [
    "# split data\n",
    "X = amazon_data_wrang.drop(columns='ACTION', axis=1)\n",
    "y = amazon_data_wrang['ACTION']\n",
    "\n",
    "# train and test splits\n",
    "train_X, Val_X, train_y, val_y = train_test_split(X, y, random_state=46)\n"
   ]
  },
  {
   "cell_type": "code",
   "execution_count": 5,
   "metadata": {},
   "outputs": [
    {
     "data": {
      "text/plain": [
       "0.6762974669291317"
      ]
     },
     "execution_count": 5,
     "metadata": {},
     "output_type": "execute_result"
    }
   ],
   "source": [
    "model = DecisionTreeClassifier(random_state=46)\n",
    "model.fit (train_X, train_y)\n",
    "model_predictions = model.predict(Val_X)\n",
    "roc_auc_score(val_y, model_predictions )\n"
   ]
  },
  {
   "cell_type": "code",
   "execution_count": 6,
   "metadata": {},
   "outputs": [],
   "source": [
    "# deffine resampling method\n",
    "resample = SMOTEENN(smote=SMOTEN(sampling_strategy=0.1), enn=EditedNearestNeighbours(sampling_strategy='majority'), random_state=46)\n",
    "\n",
    "# define pipeline\n",
    "pipeline = Pipeline(steps=[('r', resample), ('m', model)])\n"
   ]
  },
  {
   "cell_type": "code",
   "execution_count": 7,
   "metadata": {},
   "outputs": [
    {
     "data": {
      "text/plain": [
       "3.511657443169765"
      ]
     },
     "execution_count": 7,
     "metadata": {},
     "output_type": "execute_result"
    }
   ],
   "source": [
    "pipeline.fit (train_X, train_y)\n",
    "pipeline_model_predictions = pipeline.predict(Val_X)\n",
    "log_loss(val_y, pipeline_model_predictions )"
   ]
  },
  {
   "cell_type": "code",
   "execution_count": 8,
   "metadata": {},
   "outputs": [],
   "source": [
    "def check_resampling(sampling_strategy, train_x, train_y, test_x, test_y) -> int:\n",
    "\n",
    "    resample = SMOTEENN(smote=SMOTEN(sampling_strategy=sampling_strategy), enn=EditedNearestNeighbours(sampling_strategy='majority'), random_state=46)\n",
    "\n",
    "    pipeline = Pipeline(steps=[('r', resample), ('m', model)])\n",
    "\n",
    "    pipeline.fit (train_x, train_y)\n",
    "    pipeline_model_predictions = pipeline.predict(test_x)\n",
    "    scores = log_loss(test_y, pipeline_model_predictions )\n",
    "    return scores"
   ]
  },
  {
   "cell_type": "code",
   "execution_count": 9,
   "metadata": {},
   "outputs": [
    {
     "name": "stdout",
     "output_type": "stream",
     "text": [
      "[3.80909353248863, 3.880763620950016, 3.9650816591432676, 4.003026435549799, 4.475209108651576, 4.224360260994998, 4.066265452200493, 4.133719004344735]\n"
     ]
    }
   ],
   "source": [
    "Xj = amazon_data.drop(columns='ACTION', axis=1)\n",
    "yj = amazon_data['ACTION']\n",
    "\n",
    "amazon_train_x, amazon_val_x, amazon_train_y, amazon_val_y = train_test_split(Xj, yj, random_state=46, test_size=0.5)\n",
    "# amazon_feat_x, amazon_feat_y = pipeline_feature_selection.fit_resample(amazon_train_x, amazon_train_y)\n",
    "\n",
    "# amazon_experiment_data_X = select_features(data_split=amazon_feat_x)\n",
    "# amazon_experiment_val_X = select_features(data_split=amazon_val_x)\n",
    "\n",
    "# scoring_roc = check_resampling(0.2, amazon_train_x, amazon_train_y, amazon_val_x, amazon_val_y)\n",
    "\n",
    "log_loss_results_list = []\n",
    "\n",
    "for value in np.linspace(0.1, 1, 8, endpoint=False):\n",
    "    scores = check_resampling(value, amazon_train_x, amazon_train_y, amazon_val_x, amazon_val_y)\n",
    "    log_loss_results_list.append(scores)\n",
    "\n",
    "print(log_loss_results_list)\n",
    "\n"
   ]
  },
  {
   "cell_type": "code",
   "execution_count": 10,
   "metadata": {},
   "outputs": [
    {
     "data": {
      "text/plain": [
       "<AxesSubplot:xlabel='strategy', ylabel='Log Loss'>"
      ]
     },
     "execution_count": 10,
     "metadata": {},
     "output_type": "execute_result"
    },
    {
     "data": {
      "image/png": "[encoded data removed]",
      "text/plain": [
       "<Figure size 432x288 with 1 Axes>"
      ]
     },
     "metadata": {
      "needs_background": "light"
     },
     "output_type": "display_data"
    }
   ],
   "source": [
    "tested_strategy = np.linspace(0.1, 1, 8, endpoint=False).tolist()\n",
    "\n",
    "df_sampling_strategy = pd.DataFrame(list(zip(tested_strategy, log_loss_results_list)),\n",
    "               columns =['strategy', 'Log Loss'])\n",
    "\n",
    "sns.scatterplot(data=df_sampling_strategy, x=\"strategy\", y=\"Log Loss\")\n"
   ]
  },
  {
   "cell_type": "code",
   "execution_count": 11,
   "metadata": {},
   "outputs": [
    {
     "data": {
      "text/plain": [
       "Text(0.5, 1.0, 'Count of values for ACTION variable')"
      ]
     },
     "execution_count": 11,
     "metadata": {},
     "output_type": "execute_result"
    },
    {
     "data": {
      "image/png": "[encoded data removed]",
      "text/plain": [
       "<Figure size 432x288 with 1 Axes>"
      ]
     },
     "metadata": {
      "needs_background": "light"
     },
     "output_type": "display_data"
    }
   ],
   "source": [
    "# Data Visualizations\n",
    "sns.countplot(data=amazon_train_y)\n",
    "plt.title('Count of values for ACTION variable')"
   ]
  },
  {
   "cell_type": "markdown",
   "metadata": {},
   "source": [
    "## Feature selection\n",
    "On this data set, we will use chi-squared feature selection method to choose the important four features in this dataset."
   ]
  },
  {
   "cell_type": "code",
   "execution_count": 12,
   "metadata": {},
   "outputs": [
    {
     "name": "stdout",
     "output_type": "stream",
     "text": [
      "Counter({1: 19793, 0: 2316})\n"
     ]
    }
   ],
   "source": [
    "# define pipeline\n",
    "pipeline_feature_selection = Pipeline(steps=[('r', resample)])\n",
    "feat_x, feat_y = pipeline_feature_selection.fit_resample(train_X, train_y)\n",
    "counter_1 = Counter(feat_y)\n",
    "print(counter_1)"
   ]
  },
  {
   "cell_type": "code",
   "execution_count": 13,
   "metadata": {},
   "outputs": [
    {
     "name": "stdout",
     "output_type": "stream",
     "text": [
      "(22109, 9)\n",
      "Index(['RESOURCE', 'MGR_ID', 'ROLE_FAMILY_DESC', 'ROLE_FAMILY'], dtype='object')\n"
     ]
    }
   ],
   "source": [
    "# perform feature selection to determine four best attributes\n",
    "chi_squared_selector = SelectKBest(chi2, k=4)\n",
    "chi_selected_X = chi_squared_selector.fit_transform(feat_x, feat_y)\n",
    "selected_columns = feat_x.columns[(chi_squared_selector.get_support())]\n",
    "print (feat_x.shape)\n",
    "print(selected_columns)"
   ]
  },
  {
   "cell_type": "code",
   "execution_count": 14,
   "metadata": {},
   "outputs": [],
   "source": [
    "# TODO: implement Chinese wall policy.\n",
    "# TODO: use streaming data to pass instances to the model and the Chinese wall policy\n",
    "# TODO: ~~use CatBoost to deal with categorical data~~\n",
    "# TODO: ~~use grid search for Catboost~~\n",
    "# TODO: use SHAP for CatBoost\n",
    "# TODO: Write Documentation for Implementation\n",
    "# TODO: REname columns to fit research\n",
    "# TODO: Add Brier loss to evaluation MEtrics, use it to replace Average precision or calculate average precision differently"
   ]
  },
  {
   "cell_type": "code",
   "execution_count": 15,
   "metadata": {},
   "outputs": [],
   "source": [
    "def select_features(data_split: DataFrame) -> DataFrame:\n",
    "    \"\"\"\n",
    "    A function which selects only the feature selected \n",
    "    columns from a data set\n",
    "\n",
    "    Args:\n",
    "        data_split(DataFrame): the data split being cleaned\n",
    "\n",
    "    Returns:\n",
    "        featured_dataset(DataFrame): the data set with only the feature selected columns\n",
    "    \"\"\"\n",
    "    feature_selected_columns = ['RESOURCE', 'MGR_ID', 'ROLE_FAMILY_DESC', 'ROLE_FAMILY']\n",
    "    featured_dataset = data_split[feature_selected_columns]\n",
    "    return featured_dataset\n",
    "\n",
    "    "
   ]
  },
  {
   "cell_type": "code",
   "execution_count": 16,
   "metadata": {},
   "outputs": [
    {
     "data": {
      "image/png": "[encoded data removed]",
      "text/plain": [
       "<Figure size 432x288 with 1 Axes>"
      ]
     },
     "metadata": {
      "needs_background": "light"
     },
     "output_type": "display_data"
    }
   ],
   "source": [
    "# Do visualizations\n",
    "\n",
    "Xj = amazon_data.drop(columns='ACTION', axis=1)\n",
    "yj = amazon_data['ACTION']\n",
    "\n",
    "amazon_train_x, amazon_val_x, amazon_train_y, amazon_val_y = train_test_split(Xj, yj, random_state=46, test_size=0.5)\n",
    "amazon_feat_x, amazon_feat_y = pipeline_feature_selection.fit_resample(amazon_train_x, amazon_train_y)\n",
    "\n",
    "amazon_experiment_data_X = select_features(data_split=amazon_feat_x)\n",
    "amazon_experiment_val_X = select_features(data_split=amazon_val_x)\n",
    "\n",
    "# sns.countplot(data=amazon_data, x='ACTION')\n",
    "# plt.title('Count of value for Action before resampling')\n",
    "\n",
    "sns.countplot(x=amazon_feat_y)\n",
    "plt.title('Count of values for ACTION variable after resampling');\n",
    "\n"
   ]
  },
  {
   "cell_type": "code",
   "execution_count": 17,
   "metadata": {},
   "outputs": [
    {
     "data": {
      "image/png": "[encoded data removed]",
      "text/plain": [
       "<Figure size 648x432 with 1 Axes>"
      ]
     },
     "metadata": {
      "needs_background": "light"
     },
     "output_type": "display_data"
    }
   ],
   "source": [
    "plt.figure(figsize=(9,6));\n",
    "sns.kdeplot(data=amazon_data.query('ACTION == 1')['MGR_ID'],label='Accepted',shade=True);\n",
    "sns.kdeplot(data=amazon_data.query('ACTION == 0')['MGR_ID'],label='Accepted',shade=True);\n",
    "\n",
    "plt.title('Distribution of MGR_ID variable');\n",
    "plt.xlabel('Manager ID');\n",
    "plt.ylabel('Prob. Density');"
   ]
  },
  {
   "cell_type": "code",
   "execution_count": 18,
   "metadata": {},
   "outputs": [
    {
     "data": {
      "image/png": "[encoded data removed]",
      "text/plain": [
       "<Figure size 648x432 with 1 Axes>"
      ]
     },
     "metadata": {
      "needs_background": "light"
     },
     "output_type": "display_data"
    }
   ],
   "source": [
    "plt.figure(figsize=(9,6));\n",
    "sns.kdeplot(data=amazon_data.query('ACTION == 1')['RESOURCE'],label='Accepted',shade=True);\n",
    "sns.kdeplot(data=amazon_data.query('ACTION == 0')['RESOURCE'],label='Rejected',shade=True);\n",
    "\n",
    "plt.title('Distribution of Resource variable');\n",
    "plt.xlabel('Resource ID');\n",
    "plt.ylabel('Prob. Density');"
   ]
  },
  {
   "cell_type": "code",
   "execution_count": 19,
   "metadata": {},
   "outputs": [
    {
     "data": {
      "image/png": "[encoded data removed]",
      "text/plain": [
       "<Figure size 648x432 with 1 Axes>"
      ]
     },
     "metadata": {
      "needs_background": "light"
     },
     "output_type": "display_data"
    }
   ],
   "source": [
    "plt.figure(figsize=(9,6));\n",
    "sns.kdeplot(data=amazon_data.query('ACTION == 1')['ROLE_FAMILY_DESC'],label='Accepted',shade=True);\n",
    "sns.kdeplot(data=amazon_data.query('ACTION == 0')['ROLE_FAMILY_DESC'],label='Rejected',shade=True);\n",
    "\n",
    "plt.title('Distribution of Resource variable');\n",
    "plt.xlabel('Role Family Description');\n",
    "plt.ylabel('Prob. Density');"
   ]
  },
  {
   "cell_type": "code",
   "execution_count": 20,
   "metadata": {},
   "outputs": [
    {
     "data": {
      "image/png": "[encoded data removed]",
      "text/plain": [
       "<Figure size 648x432 with 1 Axes>"
      ]
     },
     "metadata": {
      "needs_background": "light"
     },
     "output_type": "display_data"
    }
   ],
   "source": [
    "plt.figure(figsize=(9,6));\n",
    "sns.kdeplot(data=amazon_data.query('ACTION == 1')['ROLE_TITLE'],label='Accepted',shade=True);\n",
    "sns.kdeplot(data=amazon_data.query('ACTION == 0')['ROLE_TITLE'],label='Rejected',shade=True);\n",
    "\n",
    "plt.title('Distribution of Resource variable');\n",
    "plt.xlabel('Role Title');\n",
    "plt.ylabel('Prob. Density');"
   ]
  },
  {
   "cell_type": "code",
   "execution_count": 21,
   "metadata": {},
   "outputs": [],
   "source": [
    "def proposed_model(**kwargs):\n",
    "    \"\"\"\n",
    "    Creates an instance of the proposed model with parameters\n",
    "    specified\n",
    "\n",
    "    Args:\n",
    "        model's key word arguments\n",
    "\n",
    "    Returns:\n",
    "        XGB model instance\n",
    "    \"\"\"\n",
    "    \n",
    "    xgb_model  = xgb.XGBClassifier(**kwargs)\n",
    "    \n",
    "    return xgb_model\n",
    "\n",
    "\n",
    "def cat_boost_model(**kwargs):\n",
    "    \"\"\"\n",
    "    Creates an instance of the proposed model with parameters\n",
    "    specified\n",
    "\n",
    "    Args:\n",
    "        model's key word arguments\n",
    "\n",
    "    Returns:\n",
    "        XGB model instance\n",
    "    \"\"\"\n",
    "\n",
    "    cat_model = cat.CatBoostClassifier(**kwargs)\n",
    "    \n",
    "    \n",
    "    return cat_model"
   ]
  },
  {
   "cell_type": "code",
   "execution_count": 22,
   "metadata": {},
   "outputs": [],
   "source": [
    "def get_models(**kwargs) -> Dict:\n",
    "    \"\"\"\n",
    "    A function that returns a dictionary containing\n",
    "    models to be used for training and evaluation\n",
    "    \n",
    "    Args:\n",
    "        kwargs: keyword arguments for the proposed model\n",
    "\n",
    "    Returns:\n",
    "        ml_models: a dictionary of instantiated machine learning models\n",
    "    \"\"\"\n",
    "\n",
    "\n",
    "    #get a list of models to evaluate\n",
    "    ml_models = dict()\n",
    "    ml_models['lr'] = LogisticRegression()\n",
    "    ml_models['knn'] = KNeighborsClassifier(n_neighbors=6)\n",
    "    ml_models['cart'] = DecisionTreeClassifier()\n",
    "    ml_models['svm'] = SVC()\n",
    "    ml_models['naive_bayes'] = GaussianNB()\n",
    "    ml_models['mlp'] = MLPClassifier()\n",
    "    ml_models['randomforest'] = RandomForestClassifier()\n",
    "    ml_models['adaboost'] = AdaBoostClassifier()\n",
    "    ml_models['bagging'] = BaggingClassifier()\n",
    "    ml_models['ensemble'] = cat_boost_model(**kwargs)\n",
    "\n",
    "    return ml_models"
   ]
  },
  {
   "cell_type": "code",
   "execution_count": 23,
   "metadata": {},
   "outputs": [],
   "source": [
    "# prepare data\n",
    "Xj = amazon_data.drop(columns='ACTION', axis=1)\n",
    "yj = amazon_data['ACTION']\n",
    "\n",
    "amazon_train_x, amazon_val_x, amazon_train_y, amazon_val_y = train_test_split(Xj, yj, random_state=46, test_size=0.5)\n",
    "amazon_feat_x, amazon_feat_y = pipeline_feature_selection.fit_resample(amazon_train_x, amazon_train_y)\n",
    "\n",
    "amazon_experiment_data_X = select_features(data_split=amazon_feat_x)\n",
    "amazon_experiment_val_X = select_features(data_split=amazon_val_x)\n",
    "\n",
    "\n",
    "# dry_train_x, dry_val_x, dry_train_y, dry_val_y = train_test_split(amazon_feat_x, amazon_feat_y, random_state=46)\n",
    "# amazon_experiment_data_X = select_features(data_split=dry_train_x)\n",
    "# amazon_experiment_val_X = select_features(data_split=dry_val_x)\n",
    "# counter_val = Counter(dry_val_y)\n",
    "# print(counter_val)\n",
    "\n",
    "\n",
    "\n",
    "# prep_train_x = select_features(feat_x)\n",
    "# prep_val_x = select_features(Val_X)\n",
    "\n",
    "# cat_data_X = prep_train_x.astype('category')\n",
    "# cat_val_data_X = prep_val_x.astype('category')\n",
    "\n",
    "# evaluate a given model\n",
    "def evaluate_model(algorithm) -> Dict:\n",
    "    \"\"\"\n",
    "    Function which evaluates machine learning models and saves\n",
    "    results in a dictionary\n",
    "\n",
    "    Args:\n",
    "        algorithm: machine learning algorithm instance\n",
    "\n",
    "    Returns:\n",
    "        results_dict: results dictionary\n",
    "    \"\"\"\n",
    "    results_dict = {}\t\n",
    "    \n",
    "    \n",
    "    algorithm.fit(amazon_experiment_data_X, amazon_feat_y)\n",
    "    algorithm_predictions = algorithm.predict(amazon_experiment_val_X)\n",
    "    auc_roc = roc_auc_score(amazon_val_y, algorithm_predictions)\n",
    "    f1_score_result = f1_score(amazon_val_y, algorithm_predictions)\n",
    "    avg_precision_score = average_precision_score(amazon_val_y, algorithm_predictions)\n",
    "    true_neg_rate = recall_score(amazon_val_y, algorithm_predictions, pos_label = 0)\n",
    "    false_pos_rate = 1- true_neg_rate\n",
    "\n",
    "    results_dict['auc_roc'] = auc_roc\n",
    "    results_dict['f1_score_result'] = f1_score_result\n",
    "    results_dict['avg_precision_score'] = avg_precision_score\n",
    "    results_dict['false_pos_rate'] = false_pos_rate\n",
    "\n",
    "    return results_dict\n",
    "\n",
    "def perform_analysis(learner) -> Dict:\n",
    "    \"\"\"\n",
    "    A function which performs fit and predict for machine learning\n",
    "    models and returns their results\n",
    "\n",
    "    Args:\n",
    "        learner- machine learning model instance\n",
    "\n",
    "    Returns\n",
    "        results_dict: dictionary of results\n",
    "    \"\"\"\n",
    "\n",
    "   \n",
    "    # results, names = list(), list()\n",
    "    results = {}\n",
    "    for name, algorithm in learner.items():\n",
    "        scores = evaluate_model(algorithm)\n",
    "        # results.append(scores)\n",
    "        # names.append(name)\n",
    "        results[name]  = scores\n",
    "        \n",
    "    return results\n",
    "\n",
    "def record_keeping(performances) -> DataFrame:\n",
    "    \"\"\"\n",
    "    A function that does record keeping of the performances\n",
    "    of each model\n",
    "\n",
    "    Args:\n",
    "        performances: a dictionary of algorithms and scores\n",
    "    \"\"\"\n",
    "    # test_time_dict = {}\n",
    "    avg_precision_dict = {}\n",
    "    auc_roc_dict = {}\n",
    "    f1_score_dict = {}\n",
    "    fpr_dict = {}\n",
    "\n",
    "    for key, values in performances.items():\n",
    "        # test_time_dict[key] = values['fit_time'].mean()\n",
    "        f1_score_dict[key] = values['f1_score_result'].mean()\n",
    "        auc_roc_dict[key] = values['auc_roc'].mean()\n",
    "        fpr_dict[key] = values['false_pos_rate'].mean()\n",
    "        avg_precision_dict[key] = values['avg_precision_score'].mean()\n",
    "        \n",
    "    result_frame = pd.DataFrame({   'F1Score':f1_score_dict,\n",
    "                                    'AUCROC':auc_roc_dict,\n",
    "                                    'AVGPrecision':avg_precision_dict,\n",
    "                                    'FPR':fpr_dict})\n",
    "    return result_frame"
   ]
  },
  {
   "cell_type": "code",
   "execution_count": 24,
   "metadata": {},
   "outputs": [
    {
     "name": "stdout",
     "output_type": "stream",
     "text": [
      "dict_keys(['explained_variance', 'r2', 'max_error', 'neg_median_absolute_error', 'neg_mean_absolute_error', 'neg_mean_absolute_percentage_error', 'neg_mean_squared_error', 'neg_mean_squared_log_error', 'neg_root_mean_squared_error', 'neg_mean_poisson_deviance', 'neg_mean_gamma_deviance', 'accuracy', 'top_k_accuracy', 'roc_auc', 'roc_auc_ovr', 'roc_auc_ovo', 'roc_auc_ovr_weighted', 'roc_auc_ovo_weighted', 'balanced_accuracy', 'average_precision', 'neg_log_loss', 'neg_brier_score', 'adjusted_rand_score', 'rand_score', 'homogeneity_score', 'completeness_score', 'v_measure_score', 'mutual_info_score', 'adjusted_mutual_info_score', 'normalized_mutual_info_score', 'fowlkes_mallows_score', 'precision', 'precision_macro', 'precision_micro', 'precision_samples', 'precision_weighted', 'recall', 'recall_macro', 'recall_micro', 'recall_samples', 'recall_weighted', 'f1', 'f1_macro', 'f1_micro', 'f1_samples', 'f1_weighted', 'jaccard', 'jaccard_macro', 'jaccard_micro', 'jaccard_samples', 'jaccard_weighted'])\n"
     ]
    }
   ],
   "source": [
    "print(sklearn.metrics.SCORERS.keys())"
   ]
  },
  {
   "cell_type": "code",
   "execution_count": 25,
   "metadata": {},
   "outputs": [],
   "source": [
    "# implement analysis\n",
    "# models_for_analysis = get_models(max_depth=4, objective=\"binary:logistic\", \n",
    "#                                 n_estimators=50, tree_method=\"gpu_hist\", \n",
    "#                                 eval_metric='auc', enable_categorical=True,\n",
    "#                                 n_jobs=-1, use_label_encoder=False,\n",
    "#                                  )\n",
    "\n",
    "\n",
    "# cat_features = ['RESOURCE', 'MGR_ID', 'ROLE_FAMILY_DESC', 'ROLE_FAMILY']\n",
    "\n",
    "# models_for_analysis = get_models(depth=4, l2_leaf_reg=1, learning_rate=0.1,\n",
    "# cat_features=cat_features)\n",
    "\n",
    "\n",
    "# analysis_results = perform_analysis(models_for_analysis)\n",
    "\n",
    "# analysis_results_df = record_keeping(analysis_results)\n",
    "\n",
    "# analysis_results_df\n",
    "\n"
   ]
  },
  {
   "cell_type": "code",
   "execution_count": 26,
   "metadata": {},
   "outputs": [],
   "source": [
    "# # split data\n",
    "# Xi = amazon_data_wrang.drop(columns='ACTION', axis=1)\n",
    "# yi = amazon_data_wrang['ACTION']\n",
    "\n",
    "# amazon_train_x, amazon_val_x, amazon_train_y, amazon_val_y = train_test_split(Xi, yi, random_state=46, stratify=yi)\n",
    "# amazon_feat_x, amazon_feat_y = pipeline_feature_selection.fit_resample(amazon_train_x, amazon_train_y)\n",
    "\n",
    "# dry_train_x, dry_val_x, dry_train_y, dry_val_y = train_test_split(amazon_feat_x, amazon_feat_y, random_state=46, stratify=amazon_feat_y)\n",
    "# amazon_experiment_data_X = select_features(data_split=dry_train_x)\n",
    "# amazon_experiment_val_X = select_features(data_split=dry_val_x)\n",
    "\n",
    "# amazon_cat_x = amazon_experiment_data_X.astype('category')\n",
    "# amazon_cat_val_x = amazon_experiment_val_X.astype('category')\n",
    "\n",
    "# # xgb_model = xgb.XGBClassifier()\n",
    "\n",
    "# # xgb_model  = proposed_model(objective=\"binary:logistic\", \n",
    "# #                                 tree_method=\"gpu_hist\", \n",
    "# #                                 eval_metric='aucpr', enable_categorical=True,\n",
    "# #                                 n_jobs=-1, use_label_encoder=False)\n",
    "\n",
    "# xgb_model = xgb.XGBClassifier()\n",
    "\n",
    "# # start = time.perf_counter()\n",
    "# # xgb_model.fit(amazon_cat_x, dry_train_y, \n",
    "# #                 eval_set=[(amazon_cat_x, dry_train_y), \n",
    "# #                 (amazon_cat_val_x, dry_val_y)], \n",
    "# #                 )\n",
    "# # end = time.perf_counter()\n",
    "\n",
    "# kfold = StratifiedKFold(shuffle=True, random_state=7)\n",
    "\n",
    "# clf = GridSearchCV(xgb_model,\n",
    "#                     {\n",
    "\n",
    "#                         'tree_method': [\"gpu_hist\"],\n",
    "#                         'enable_categorical': [True],\n",
    "#                         'use_label_encoder': [False],\n",
    "#                         'max_depth': [4,6,7],\n",
    "#                         'n_estimators': [250, 300, 350],\n",
    "#                         'objective': [\"binary:logistic\"],\n",
    "#                         'eval_metric': ['auc'] \n",
    "#                     }, \n",
    "#                     scoring='roc_auc', verbose=1, n_jobs=-1, cv=kfold)\n",
    "\n",
    "# # evals_result = xgb_model.evals_result()\n",
    "\n",
    "# # print('')\n",
    "# # print('Access complete dict:')\n",
    "# # print(evals_result)\n",
    "\n",
    "# n_estimators = [300, 350, 400]\n",
    "# max_depth = [4, 6, 7]\n",
    "# best_params = [{'enable_categorical': True, 'eval_metric': 'aucpr', 'max_depth': 10, 'n_estimators': 250, 'objective': 'binary:logistic',      'tree_method':    'gpu_hist', 'use_label_encoder': False}, \n",
    "#                 {'eval_metric': 'aucpr', 'max_depth': 10, 'n_estimators': 400, 'objective': 'binary:logistic'},\n",
    "#                 {'eval_metric': 'aucpr', 'max_depth': 12, 'n_estimators': 500, 'objective': 'binary:logistic'}]\n",
    "# best_acprc = [0.9073800050805165, 0.9260385465307127, 0.9216370452305271]\n",
    "\n",
    "\n",
    "\n",
    "# clf.fit(amazon_cat_x, dry_train_y)\n",
    "# print(clf.best_score_)\n",
    "# print(clf.best_params_)\n",
    "\n",
    "# # summarize results\n",
    "# means = clf.cv_results_['mean_test_score']\n",
    "# stds = clf.cv_results_['std_test_score']\n",
    "# params = clf.cv_results_['params']\n",
    "# for mean, stdev, param in zip(means, stds, params):\n",
    "# \tprint(\"%f (%f) with: %r\" % (mean, stdev, param))\n",
    "# # plot results\n",
    "# scores = np.array(means).reshape(len(max_depth), len(n_estimators))\n",
    "# for i, value in enumerate(max_depth):\n",
    "#     plt.plot(n_estimators, scores[i], label='depth: ' + str(value))\n",
    "# plt.legend()\n",
    "# plt.xlabel('n_estimators')\n",
    "# plt.ylabel('Average PR-Curve')\n",
    "# # pyplot.savefig('n_estimators_vs_max_depth.png')"
   ]
  },
  {
   "cell_type": "code",
   "execution_count": 27,
   "metadata": {},
   "outputs": [],
   "source": [
    "\n",
    "# # split data\n",
    "# Xi = amazon_data_wrang.drop(columns='ACTION', axis=1)\n",
    "# yi = amazon_data_wrang['ACTION']\n",
    "\n",
    "# amazon_train_x, amazon_val_x, amazon_train_y, amazon_val_y = train_test_split(Xi, yi, random_state=46, stratify=yi)\n",
    "# amazon_feat_x, amazon_feat_y = pipeline_feature_selection.fit_resample(amazon_train_x, amazon_train_y)\n",
    "\n",
    "# dry_train_x, dry_val_x, dry_train_y, dry_val_y = train_test_split(amazon_feat_x, amazon_feat_y, random_state=46, stratify=amazon_feat_y)\n",
    "# amazon_experiment_data_X = select_features(data_split=dry_train_x)\n",
    "# amazon_experiment_val_X = select_features(data_split=dry_val_x)\n",
    "\n",
    "# amazon_cat_x = amazon_experiment_data_X.astype('category')\n",
    "# amazon_cat_val_x = amazon_experiment_val_X.astype('category')\n",
    "\n",
    "\n",
    "# # cv = RepeatedStratifiedKFold(n_splits=5, n_repeats=3, random_state=1)\n",
    "\n",
    "# xgb_model = xgb.XGBClassifier(max_depth=4, objective=\"binary:logistic\", \n",
    "#                                 n_estimators=50, tree_method=\"gpu_hist\", \n",
    "#                                 eval_metric='auc', enable_categorical=True,\n",
    "#                                 n_jobs=-1, use_label_encoder=False,)\n",
    "\n",
    "\n",
    "# xgb_model.fit(amazon_cat_x, dry_train_y)\n",
    "# yhat = xgb_model.predict(amazon_cat_val_x)\n",
    "\n",
    "\n",
    "# # validate = cross_validate(xgb_model, amazon_cat_x, dry_train_y, scoring=scoring,\n",
    "# #                              cv=cv, n_jobs=-1, error_score='raise')\n",
    "\n",
    "# # predict probabilities\n",
    "# xgb_probs = xgb_model.predict_proba(amazon_cat_val_x)\n",
    "\n",
    "# # keep probabilities for the positive outcome only\n",
    "# xgb_probs = xgb_probs[:, 1]\n",
    "# lr_precision, lr_recall, _ = precision_recall_curve(dry_val_y, xgb_probs)\n",
    "\n",
    "# xgb_model_aucprc = auc(lr_recall, lr_precision)\n",
    "\n",
    "# # summarize scores\n",
    "# print('Logistic: auc=%.3f' % (xgb_model_aucprc))\n",
    "\n",
    "# # plot the precision-recall curves\n",
    "# no_skill = len(dry_val_y[dry_val_y==1]) / len(dry_val_y)\n",
    "# plt.plot([0, 1], [no_skill, no_skill], linestyle='--', label='No Skill')\n",
    "# plt.plot(lr_recall, lr_precision, marker='.', label='XGB Model')\n",
    "\n",
    "# # axis labels\n",
    "# plt.xlabel('Recall')\n",
    "# plt.ylabel('Precision')\n",
    "# # show the legend\n",
    "# plt.legend()\n",
    "# # show the plot\n",
    "# plt.show()\n"
   ]
  },
  {
   "cell_type": "code",
   "execution_count": 28,
   "metadata": {},
   "outputs": [],
   "source": [
    "# # split data\n",
    "# Xi = amazon_data_wrang.drop(columns='ACTION', axis=1)\n",
    "# yi = amazon_data_wrang['ACTION']\n",
    "\n",
    "# amazon_train_x, amazon_val_x, amazon_train_y, amazon_val_y = train_test_split(Xi, yi, random_state=46, stratify=yi)\n",
    "# amazon_feat_x, amazon_feat_y = pipeline_feature_selection.fit_resample(amazon_train_x, amazon_train_y)\n",
    "\n",
    "# dry_train_x, dry_val_x, dry_train_y, dry_val_y = train_test_split(amazon_feat_x, amazon_feat_y, random_state=46, stratify=amazon_feat_y)\n",
    "# amazon_experiment_data_X = select_features(data_split=dry_train_x)\n",
    "# amazon_experiment_val_X = select_features(data_split=dry_val_x)\n",
    "\n",
    "# amazon_cat_x = amazon_experiment_data_X.astype('category')\n",
    "# amazon_cat_val_x = amazon_experiment_val_X.astype('category')\n",
    "\n",
    "\n",
    "# # cv = RepeatedStratifiedKFold(n_splits=5, n_repeats=3, random_state=1)\n",
    "\n",
    "# xgb_model = xgb.XGBClassifier(max_depth=4, objective=\"binary:logistic\", \n",
    "#                                 n_estimators=50, tree_method=\"gpu_hist\", \n",
    "#                                 eval_metric='auc', enable_categorical=True,\n",
    "#                                 n_jobs=-1, use_label_encoder=False,)\n",
    "\n",
    "\n",
    "# xgb_model.fit(amazon_cat_x, dry_train_y)\n",
    "# yhat = xgb_model.predict(amazon_cat_val_x)\n",
    "\n",
    "# # generate a no skill prediction (majority class)\n",
    "# ns_probs = [0 for _ in range(len(dry_val_y))]\n",
    "\n",
    "\n",
    "# # validate = cross_validate(xgb_model, amazon_cat_x, dry_train_y, scoring=scoring,\n",
    "# #                              cv=cv, n_jobs=-1, error_score='raise')\n",
    "\n",
    "# # predict probabilities\n",
    "# xgb_probs = xgb_model.predict_proba(amazon_cat_val_x)\n",
    "\n",
    "# # keep probabilities for the positive outcome only\n",
    "# xgb_probs = xgb_probs[:, 1]\n",
    "\n",
    "# # calculate scores\n",
    "# ns_auc = roc_auc_score(dry_val_y, ns_probs)\n",
    "# xgb_auc = roc_auc_score(dry_val_y, xgb_probs)\n",
    "\n",
    "# # summarize scores\n",
    "# print('No Skill: ROC AUC=%.3f' % (ns_auc))\n",
    "# print('XGB Model: ROC AUC=%.3f' % (xgb_auc))\n",
    "\n",
    "\n",
    "# # calculate roc curves\n",
    "# ns_fpr, ns_tpr, _ = roc_curve(dry_val_y, ns_probs)\n",
    "# xgb_fpr, xgb_tpr, _ = roc_curve(dry_val_y, xgb_probs)\n",
    "\n",
    "# # plot the roc curve for the model\n",
    "# plt.plot(ns_fpr, ns_tpr, linestyle='--', label='No Skill')\n",
    "# plt.plot(xgb_fpr, xgb_tpr, marker='.', label='XGB Model')\n",
    "# # axis labels\n",
    "# plt.xlabel('False Positive Rate')\n",
    "# plt.ylabel('True Positive Rate')\n",
    "# # show the legend\n",
    "# plt.legend()\n",
    "# # show the plot\n",
    "# plt.show()\n"
   ]
  },
  {
   "cell_type": "code",
   "execution_count": 29,
   "metadata": {},
   "outputs": [
    {
     "name": "stdout",
     "output_type": "stream",
     "text": [
      "Counter({1: 19793, 0: 2316})\n",
      "Counter({1: 3267, 0: 391})\n",
      "Counter({1: 9819, 0: 1152})\n",
      "[0]\tvalidation_0-error:0.09543\tvalidation_0-auc:0.56247\tvalidation_0-logloss:0.52563\tvalidation_1-error:0.10853\tvalidation_1-auc:0.49883\tvalidation_1-logloss:0.53148\n",
      "[1]\tvalidation_0-error:0.09434\tvalidation_0-auc:0.58506\tvalidation_0-logloss:0.43586\tvalidation_1-error:0.10935\tvalidation_1-auc:0.49821\tvalidation_1-logloss:0.44726\n",
      "[2]\tvalidation_0-error:0.09789\tvalidation_0-auc:0.70858\tvalidation_0-logloss:0.37630\tvalidation_1-error:0.10744\tvalidation_1-auc:0.54325\tvalidation_1-logloss:0.39483\n",
      "[3]\tvalidation_0-error:0.09698\tvalidation_0-auc:0.72015\tvalidation_0-logloss:0.34278\tvalidation_1-error:0.10798\tvalidation_1-auc:0.54179\tvalidation_1-logloss:0.36668\n",
      "[4]\tvalidation_0-error:0.09625\tvalidation_0-auc:0.73402\tvalidation_0-logloss:0.31971\tvalidation_1-error:0.10744\tvalidation_1-auc:0.54089\tvalidation_1-logloss:0.35029\n",
      "[5]\tvalidation_0-error:0.09744\tvalidation_0-auc:0.75263\tvalidation_0-logloss:0.30553\tvalidation_1-error:0.10716\tvalidation_1-auc:0.54819\tvalidation_1-logloss:0.34480\n",
      "[6]\tvalidation_0-error:0.09926\tvalidation_0-auc:0.75946\tvalidation_0-logloss:0.29638\tvalidation_1-error:0.10716\tvalidation_1-auc:0.54766\tvalidation_1-logloss:0.34133\n",
      "[7]\tvalidation_0-error:0.09881\tvalidation_0-auc:0.76944\tvalidation_0-logloss:0.28635\tvalidation_1-error:0.10716\tvalidation_1-auc:0.54339\tvalidation_1-logloss:0.34146\n",
      "[8]\tvalidation_0-error:0.09771\tvalidation_0-auc:0.78099\tvalidation_0-logloss:0.28127\tvalidation_1-error:0.10798\tvalidation_1-auc:0.54418\tvalidation_1-logloss:0.34178\n",
      "[9]\tvalidation_0-error:0.09899\tvalidation_0-auc:0.78948\tvalidation_0-logloss:0.27653\tvalidation_1-error:0.10716\tvalidation_1-auc:0.54501\tvalidation_1-logloss:0.34125\n",
      "[10]\tvalidation_0-error:0.09625\tvalidation_0-auc:0.80078\tvalidation_0-logloss:0.27181\tvalidation_1-error:0.10716\tvalidation_1-auc:0.54439\tvalidation_1-logloss:0.34420\n",
      "[11]\tvalidation_0-error:0.09607\tvalidation_0-auc:0.80167\tvalidation_0-logloss:0.26935\tvalidation_1-error:0.10744\tvalidation_1-auc:0.54558\tvalidation_1-logloss:0.34451\n",
      "[12]\tvalidation_0-error:0.09416\tvalidation_0-auc:0.80563\tvalidation_0-logloss:0.26699\tvalidation_1-error:0.10826\tvalidation_1-auc:0.54569\tvalidation_1-logloss:0.34462\n",
      "[13]\tvalidation_0-error:0.09361\tvalidation_0-auc:0.80647\tvalidation_0-logloss:0.26410\tvalidation_1-error:0.10798\tvalidation_1-auc:0.54533\tvalidation_1-logloss:0.34801\n",
      "[14]\tvalidation_0-error:0.09242\tvalidation_0-auc:0.80728\tvalidation_0-logloss:0.26215\tvalidation_1-error:0.10826\tvalidation_1-auc:0.54543\tvalidation_1-logloss:0.34823\n",
      "[15]\tvalidation_0-error:0.09151\tvalidation_0-auc:0.81079\tvalidation_0-logloss:0.26056\tvalidation_1-error:0.10826\tvalidation_1-auc:0.54654\tvalidation_1-logloss:0.34832\n",
      "[16]\tvalidation_0-error:0.09088\tvalidation_0-auc:0.81870\tvalidation_0-logloss:0.25894\tvalidation_1-error:0.10826\tvalidation_1-auc:0.54903\tvalidation_1-logloss:0.34762\n",
      "[17]\tvalidation_0-error:0.08896\tvalidation_0-auc:0.81998\tvalidation_0-logloss:0.25690\tvalidation_1-error:0.10798\tvalidation_1-auc:0.56475\tvalidation_1-logloss:0.34740\n",
      "[18]\tvalidation_0-error:0.08841\tvalidation_0-auc:0.82086\tvalidation_0-logloss:0.25511\tvalidation_1-error:0.10798\tvalidation_1-auc:0.56458\tvalidation_1-logloss:0.34864\n",
      "[19]\tvalidation_0-error:0.08668\tvalidation_0-auc:0.82171\tvalidation_0-logloss:0.25373\tvalidation_1-error:0.10826\tvalidation_1-auc:0.56440\tvalidation_1-logloss:0.35072\n",
      "[20]\tvalidation_0-error:0.08668\tvalidation_0-auc:0.82347\tvalidation_0-logloss:0.25288\tvalidation_1-error:0.10826\tvalidation_1-auc:0.56355\tvalidation_1-logloss:0.35058\n",
      "[21]\tvalidation_0-error:0.08668\tvalidation_0-auc:0.82597\tvalidation_0-logloss:0.25222\tvalidation_1-error:0.10826\tvalidation_1-auc:0.55356\tvalidation_1-logloss:0.35074\n",
      "[22]\tvalidation_0-error:0.08450\tvalidation_0-auc:0.82847\tvalidation_0-logloss:0.25110\tvalidation_1-error:0.10826\tvalidation_1-auc:0.55110\tvalidation_1-logloss:0.35114\n",
      "[23]\tvalidation_0-error:0.08431\tvalidation_0-auc:0.83029\tvalidation_0-logloss:0.24998\tvalidation_1-error:0.10826\tvalidation_1-auc:0.55129\tvalidation_1-logloss:0.35151\n",
      "[24]\tvalidation_0-error:0.08395\tvalidation_0-auc:0.82889\tvalidation_0-logloss:0.24946\tvalidation_1-error:0.10826\tvalidation_1-auc:0.54903\tvalidation_1-logloss:0.35163\n",
      "[25]\tvalidation_0-error:0.08395\tvalidation_0-auc:0.83015\tvalidation_0-logloss:0.24916\tvalidation_1-error:0.10826\tvalidation_1-auc:0.54858\tvalidation_1-logloss:0.35196\n",
      "[26]\tvalidation_0-error:0.08349\tvalidation_0-auc:0.83013\tvalidation_0-logloss:0.24848\tvalidation_1-error:0.10826\tvalidation_1-auc:0.54858\tvalidation_1-logloss:0.35217\n",
      "[27]\tvalidation_0-error:0.08349\tvalidation_0-auc:0.83046\tvalidation_0-logloss:0.24824\tvalidation_1-error:0.10826\tvalidation_1-auc:0.54848\tvalidation_1-logloss:0.35226\n",
      "[28]\tvalidation_0-error:0.08258\tvalidation_0-auc:0.83148\tvalidation_0-logloss:0.24663\tvalidation_1-error:0.10826\tvalidation_1-auc:0.54645\tvalidation_1-logloss:0.35235\n",
      "[29]\tvalidation_0-error:0.08258\tvalidation_0-auc:0.83168\tvalidation_0-logloss:0.24627\tvalidation_1-error:0.10826\tvalidation_1-auc:0.54880\tvalidation_1-logloss:0.35261\n",
      "[30]\tvalidation_0-error:0.08258\tvalidation_0-auc:0.83369\tvalidation_0-logloss:0.24562\tvalidation_1-error:0.10826\tvalidation_1-auc:0.54880\tvalidation_1-logloss:0.35311\n",
      "[31]\tvalidation_0-error:0.08285\tvalidation_0-auc:0.83409\tvalidation_0-logloss:0.24482\tvalidation_1-error:0.10826\tvalidation_1-auc:0.54879\tvalidation_1-logloss:0.35355\n",
      "[32]\tvalidation_0-error:0.08285\tvalidation_0-auc:0.83425\tvalidation_0-logloss:0.24468\tvalidation_1-error:0.10826\tvalidation_1-auc:0.54904\tvalidation_1-logloss:0.35392\n",
      "[33]\tvalidation_0-error:0.08231\tvalidation_0-auc:0.83431\tvalidation_0-logloss:0.24444\tvalidation_1-error:0.10826\tvalidation_1-auc:0.54943\tvalidation_1-logloss:0.35373\n",
      "[34]\tvalidation_0-error:0.08231\tvalidation_0-auc:0.83431\tvalidation_0-logloss:0.24444\tvalidation_1-error:0.10826\tvalidation_1-auc:0.54943\tvalidation_1-logloss:0.35372\n",
      "[35]\tvalidation_0-error:0.08231\tvalidation_0-auc:0.83431\tvalidation_0-logloss:0.24444\tvalidation_1-error:0.10826\tvalidation_1-auc:0.54943\tvalidation_1-logloss:0.35371\n",
      "[36]\tvalidation_0-error:0.08231\tvalidation_0-auc:0.83431\tvalidation_0-logloss:0.24444\tvalidation_1-error:0.10826\tvalidation_1-auc:0.54943\tvalidation_1-logloss:0.35371\n",
      "[37]\tvalidation_0-error:0.08231\tvalidation_0-auc:0.83431\tvalidation_0-logloss:0.24444\tvalidation_1-error:0.10826\tvalidation_1-auc:0.54943\tvalidation_1-logloss:0.35370\n",
      "[38]\tvalidation_0-error:0.08231\tvalidation_0-auc:0.83431\tvalidation_0-logloss:0.24444\tvalidation_1-error:0.10826\tvalidation_1-auc:0.54943\tvalidation_1-logloss:0.35370\n",
      "[39]\tvalidation_0-error:0.08231\tvalidation_0-auc:0.83431\tvalidation_0-logloss:0.24444\tvalidation_1-error:0.10826\tvalidation_1-auc:0.54943\tvalidation_1-logloss:0.35370\n",
      "[40]\tvalidation_0-error:0.08231\tvalidation_0-auc:0.83431\tvalidation_0-logloss:0.24444\tvalidation_1-error:0.10826\tvalidation_1-auc:0.54943\tvalidation_1-logloss:0.35370\n",
      "[41]\tvalidation_0-error:0.08231\tvalidation_0-auc:0.83431\tvalidation_0-logloss:0.24444\tvalidation_1-error:0.10826\tvalidation_1-auc:0.54943\tvalidation_1-logloss:0.35370\n",
      "[42]\tvalidation_0-error:0.08231\tvalidation_0-auc:0.83431\tvalidation_0-logloss:0.24444\tvalidation_1-error:0.10826\tvalidation_1-auc:0.54943\tvalidation_1-logloss:0.35370\n",
      "[43]\tvalidation_0-error:0.08231\tvalidation_0-auc:0.83431\tvalidation_0-logloss:0.24444\tvalidation_1-error:0.10826\tvalidation_1-auc:0.54943\tvalidation_1-logloss:0.35370\n",
      "[44]\tvalidation_0-error:0.08231\tvalidation_0-auc:0.83431\tvalidation_0-logloss:0.24444\tvalidation_1-error:0.10826\tvalidation_1-auc:0.54943\tvalidation_1-logloss:0.35370\n",
      "[45]\tvalidation_0-error:0.08231\tvalidation_0-auc:0.83431\tvalidation_0-logloss:0.24444\tvalidation_1-error:0.10826\tvalidation_1-auc:0.54943\tvalidation_1-logloss:0.35370\n",
      "[46]\tvalidation_0-error:0.08231\tvalidation_0-auc:0.83431\tvalidation_0-logloss:0.24444\tvalidation_1-error:0.10826\tvalidation_1-auc:0.54943\tvalidation_1-logloss:0.35370\n",
      "[47]\tvalidation_0-error:0.08231\tvalidation_0-auc:0.83431\tvalidation_0-logloss:0.24444\tvalidation_1-error:0.10826\tvalidation_1-auc:0.54943\tvalidation_1-logloss:0.35370\n",
      "[48]\tvalidation_0-error:0.08231\tvalidation_0-auc:0.83431\tvalidation_0-logloss:0.24444\tvalidation_1-error:0.10826\tvalidation_1-auc:0.54943\tvalidation_1-logloss:0.35370\n",
      "[49]\tvalidation_0-error:0.08231\tvalidation_0-auc:0.83431\tvalidation_0-logloss:0.24444\tvalidation_1-error:0.10826\tvalidation_1-auc:0.54943\tvalidation_1-logloss:0.35370\n",
      "[50]\tvalidation_0-error:0.08231\tvalidation_0-auc:0.83431\tvalidation_0-logloss:0.24444\tvalidation_1-error:0.10826\tvalidation_1-auc:0.54943\tvalidation_1-logloss:0.35370\n",
      "[51]\tvalidation_0-error:0.08231\tvalidation_0-auc:0.83431\tvalidation_0-logloss:0.24444\tvalidation_1-error:0.10826\tvalidation_1-auc:0.54943\tvalidation_1-logloss:0.35370\n",
      "[52]\tvalidation_0-error:0.08231\tvalidation_0-auc:0.83431\tvalidation_0-logloss:0.24444\tvalidation_1-error:0.10826\tvalidation_1-auc:0.54943\tvalidation_1-logloss:0.35370\n",
      "[53]\tvalidation_0-error:0.08231\tvalidation_0-auc:0.83431\tvalidation_0-logloss:0.24444\tvalidation_1-error:0.10826\tvalidation_1-auc:0.54943\tvalidation_1-logloss:0.35370\n",
      "[54]\tvalidation_0-error:0.08231\tvalidation_0-auc:0.83431\tvalidation_0-logloss:0.24444\tvalidation_1-error:0.10826\tvalidation_1-auc:0.54943\tvalidation_1-logloss:0.35370\n",
      "[55]\tvalidation_0-error:0.08231\tvalidation_0-auc:0.83431\tvalidation_0-logloss:0.24444\tvalidation_1-error:0.10826\tvalidation_1-auc:0.54943\tvalidation_1-logloss:0.35370\n",
      "[56]\tvalidation_0-error:0.08231\tvalidation_0-auc:0.83431\tvalidation_0-logloss:0.24444\tvalidation_1-error:0.10826\tvalidation_1-auc:0.54943\tvalidation_1-logloss:0.35370\n",
      "[57]\tvalidation_0-error:0.08231\tvalidation_0-auc:0.83431\tvalidation_0-logloss:0.24444\tvalidation_1-error:0.10826\tvalidation_1-auc:0.54943\tvalidation_1-logloss:0.35370\n",
      "[58]\tvalidation_0-error:0.08231\tvalidation_0-auc:0.83431\tvalidation_0-logloss:0.24444\tvalidation_1-error:0.10826\tvalidation_1-auc:0.54943\tvalidation_1-logloss:0.35370\n",
      "[59]\tvalidation_0-error:0.08231\tvalidation_0-auc:0.83431\tvalidation_0-logloss:0.24444\tvalidation_1-error:0.10826\tvalidation_1-auc:0.54943\tvalidation_1-logloss:0.35370\n",
      "[60]\tvalidation_0-error:0.08231\tvalidation_0-auc:0.83431\tvalidation_0-logloss:0.24444\tvalidation_1-error:0.10826\tvalidation_1-auc:0.54943\tvalidation_1-logloss:0.35370\n",
      "[61]\tvalidation_0-error:0.08231\tvalidation_0-auc:0.83431\tvalidation_0-logloss:0.24444\tvalidation_1-error:0.10826\tvalidation_1-auc:0.54943\tvalidation_1-logloss:0.35370\n",
      "[62]\tvalidation_0-error:0.08231\tvalidation_0-auc:0.83431\tvalidation_0-logloss:0.24444\tvalidation_1-error:0.10826\tvalidation_1-auc:0.54943\tvalidation_1-logloss:0.35370\n",
      "[63]\tvalidation_0-error:0.08231\tvalidation_0-auc:0.83431\tvalidation_0-logloss:0.24444\tvalidation_1-error:0.10826\tvalidation_1-auc:0.54943\tvalidation_1-logloss:0.35370\n",
      "[64]\tvalidation_0-error:0.08231\tvalidation_0-auc:0.83431\tvalidation_0-logloss:0.24444\tvalidation_1-error:0.10826\tvalidation_1-auc:0.54943\tvalidation_1-logloss:0.35370\n",
      "[65]\tvalidation_0-error:0.08231\tvalidation_0-auc:0.83431\tvalidation_0-logloss:0.24444\tvalidation_1-error:0.10826\tvalidation_1-auc:0.54943\tvalidation_1-logloss:0.35370\n",
      "[66]\tvalidation_0-error:0.08231\tvalidation_0-auc:0.83431\tvalidation_0-logloss:0.24444\tvalidation_1-error:0.10826\tvalidation_1-auc:0.54943\tvalidation_1-logloss:0.35370\n",
      "[67]\tvalidation_0-error:0.08231\tvalidation_0-auc:0.83431\tvalidation_0-logloss:0.24444\tvalidation_1-error:0.10826\tvalidation_1-auc:0.54943\tvalidation_1-logloss:0.35370\n",
      "[68]\tvalidation_0-error:0.08231\tvalidation_0-auc:0.83431\tvalidation_0-logloss:0.24444\tvalidation_1-error:0.10826\tvalidation_1-auc:0.54943\tvalidation_1-logloss:0.35370\n",
      "[69]\tvalidation_0-error:0.08231\tvalidation_0-auc:0.83431\tvalidation_0-logloss:0.24444\tvalidation_1-error:0.10826\tvalidation_1-auc:0.54943\tvalidation_1-logloss:0.35370\n",
      "[70]\tvalidation_0-error:0.08231\tvalidation_0-auc:0.83431\tvalidation_0-logloss:0.24444\tvalidation_1-error:0.10826\tvalidation_1-auc:0.54943\tvalidation_1-logloss:0.35370\n",
      "[71]\tvalidation_0-error:0.08231\tvalidation_0-auc:0.83431\tvalidation_0-logloss:0.24444\tvalidation_1-error:0.10826\tvalidation_1-auc:0.54943\tvalidation_1-logloss:0.35370\n",
      "[72]\tvalidation_0-error:0.08231\tvalidation_0-auc:0.83431\tvalidation_0-logloss:0.24444\tvalidation_1-error:0.10826\tvalidation_1-auc:0.54943\tvalidation_1-logloss:0.35370\n",
      "[73]\tvalidation_0-error:0.08231\tvalidation_0-auc:0.83431\tvalidation_0-logloss:0.24444\tvalidation_1-error:0.10826\tvalidation_1-auc:0.54943\tvalidation_1-logloss:0.35370\n",
      "[74]\tvalidation_0-error:0.08231\tvalidation_0-auc:0.83431\tvalidation_0-logloss:0.24444\tvalidation_1-error:0.10826\tvalidation_1-auc:0.54943\tvalidation_1-logloss:0.35370\n",
      "[75]\tvalidation_0-error:0.08231\tvalidation_0-auc:0.83431\tvalidation_0-logloss:0.24444\tvalidation_1-error:0.10826\tvalidation_1-auc:0.54943\tvalidation_1-logloss:0.35370\n",
      "[76]\tvalidation_0-error:0.08231\tvalidation_0-auc:0.83431\tvalidation_0-logloss:0.24444\tvalidation_1-error:0.10826\tvalidation_1-auc:0.54943\tvalidation_1-logloss:0.35370\n",
      "[77]\tvalidation_0-error:0.08231\tvalidation_0-auc:0.83431\tvalidation_0-logloss:0.24444\tvalidation_1-error:0.10826\tvalidation_1-auc:0.54943\tvalidation_1-logloss:0.35370\n",
      "[78]\tvalidation_0-error:0.08231\tvalidation_0-auc:0.83431\tvalidation_0-logloss:0.24444\tvalidation_1-error:0.10826\tvalidation_1-auc:0.54943\tvalidation_1-logloss:0.35370\n",
      "[79]\tvalidation_0-error:0.08231\tvalidation_0-auc:0.83431\tvalidation_0-logloss:0.24444\tvalidation_1-error:0.10826\tvalidation_1-auc:0.54943\tvalidation_1-logloss:0.35370\n",
      "[80]\tvalidation_0-error:0.08231\tvalidation_0-auc:0.83431\tvalidation_0-logloss:0.24444\tvalidation_1-error:0.10826\tvalidation_1-auc:0.54943\tvalidation_1-logloss:0.35370\n",
      "[81]\tvalidation_0-error:0.08231\tvalidation_0-auc:0.83431\tvalidation_0-logloss:0.24444\tvalidation_1-error:0.10826\tvalidation_1-auc:0.54943\tvalidation_1-logloss:0.35370\n",
      "[82]\tvalidation_0-error:0.08231\tvalidation_0-auc:0.83431\tvalidation_0-logloss:0.24444\tvalidation_1-error:0.10826\tvalidation_1-auc:0.54943\tvalidation_1-logloss:0.35370\n",
      "[83]\tvalidation_0-error:0.08231\tvalidation_0-auc:0.83431\tvalidation_0-logloss:0.24444\tvalidation_1-error:0.10826\tvalidation_1-auc:0.54943\tvalidation_1-logloss:0.35370\n",
      "[84]\tvalidation_0-error:0.08231\tvalidation_0-auc:0.83431\tvalidation_0-logloss:0.24444\tvalidation_1-error:0.10826\tvalidation_1-auc:0.54943\tvalidation_1-logloss:0.35370\n",
      "[85]\tvalidation_0-error:0.08231\tvalidation_0-auc:0.83431\tvalidation_0-logloss:0.24444\tvalidation_1-error:0.10826\tvalidation_1-auc:0.54943\tvalidation_1-logloss:0.35370\n",
      "[86]\tvalidation_0-error:0.08231\tvalidation_0-auc:0.83431\tvalidation_0-logloss:0.24444\tvalidation_1-error:0.10826\tvalidation_1-auc:0.54943\tvalidation_1-logloss:0.35370\n",
      "[87]\tvalidation_0-error:0.08231\tvalidation_0-auc:0.83431\tvalidation_0-logloss:0.24444\tvalidation_1-error:0.10826\tvalidation_1-auc:0.54943\tvalidation_1-logloss:0.35370\n",
      "[88]\tvalidation_0-error:0.08231\tvalidation_0-auc:0.83431\tvalidation_0-logloss:0.24444\tvalidation_1-error:0.10826\tvalidation_1-auc:0.54943\tvalidation_1-logloss:0.35370\n",
      "[89]\tvalidation_0-error:0.08231\tvalidation_0-auc:0.83431\tvalidation_0-logloss:0.24444\tvalidation_1-error:0.10826\tvalidation_1-auc:0.54943\tvalidation_1-logloss:0.35370\n",
      "[90]\tvalidation_0-error:0.08231\tvalidation_0-auc:0.83431\tvalidation_0-logloss:0.24444\tvalidation_1-error:0.10826\tvalidation_1-auc:0.54943\tvalidation_1-logloss:0.35370\n",
      "[91]\tvalidation_0-error:0.08231\tvalidation_0-auc:0.83431\tvalidation_0-logloss:0.24444\tvalidation_1-error:0.10826\tvalidation_1-auc:0.54943\tvalidation_1-logloss:0.35370\n",
      "[92]\tvalidation_0-error:0.08231\tvalidation_0-auc:0.83431\tvalidation_0-logloss:0.24444\tvalidation_1-error:0.10826\tvalidation_1-auc:0.54943\tvalidation_1-logloss:0.35370\n",
      "[93]\tvalidation_0-error:0.08231\tvalidation_0-auc:0.83431\tvalidation_0-logloss:0.24444\tvalidation_1-error:0.10826\tvalidation_1-auc:0.54943\tvalidation_1-logloss:0.35370\n",
      "[94]\tvalidation_0-error:0.08231\tvalidation_0-auc:0.83431\tvalidation_0-logloss:0.24444\tvalidation_1-error:0.10826\tvalidation_1-auc:0.54943\tvalidation_1-logloss:0.35370\n",
      "[95]\tvalidation_0-error:0.08231\tvalidation_0-auc:0.83431\tvalidation_0-logloss:0.24444\tvalidation_1-error:0.10826\tvalidation_1-auc:0.54943\tvalidation_1-logloss:0.35370\n",
      "[96]\tvalidation_0-error:0.08231\tvalidation_0-auc:0.83431\tvalidation_0-logloss:0.24444\tvalidation_1-error:0.10826\tvalidation_1-auc:0.54943\tvalidation_1-logloss:0.35370\n",
      "[97]\tvalidation_0-error:0.08231\tvalidation_0-auc:0.83431\tvalidation_0-logloss:0.24444\tvalidation_1-error:0.10826\tvalidation_1-auc:0.54943\tvalidation_1-logloss:0.35370\n",
      "[98]\tvalidation_0-error:0.08231\tvalidation_0-auc:0.83431\tvalidation_0-logloss:0.24444\tvalidation_1-error:0.10826\tvalidation_1-auc:0.54943\tvalidation_1-logloss:0.35370\n",
      "[99]\tvalidation_0-error:0.08231\tvalidation_0-auc:0.83431\tvalidation_0-logloss:0.24444\tvalidation_1-error:0.10826\tvalidation_1-auc:0.54943\tvalidation_1-logloss:0.35370\n",
      "AUCROC: 0.50%\n"
     ]
    },
    {
     "data": {
      "image/png": "[encoded data removed]",
      "text/plain": [
       "<Figure size 432x288 with 1 Axes>"
      ]
     },
     "metadata": {
      "needs_background": "light"
     },
     "output_type": "display_data"
    },
    {
     "data": {
      "image/png": "[encoded data removed]",
      "text/plain": [
       "<Figure size 432x288 with 1 Axes>"
      ]
     },
     "metadata": {
      "needs_background": "light"
     },
     "output_type": "display_data"
    },
    {
     "data": {
      "text/plain": [
       "Text(0.5, 1.0, 'XGBoost Log loss')"
      ]
     },
     "execution_count": 29,
     "metadata": {},
     "output_type": "execute_result"
    },
    {
     "data": {
      "image/png": "[encoded data removed]",
      "text/plain": [
       "<Figure size 432x288 with 1 Axes>"
      ]
     },
     "metadata": {
      "needs_background": "light"
     },
     "output_type": "display_data"
    }
   ],
   "source": [
    "# split data\n",
    "Xi = amazon_data_wrang.drop(columns='ACTION', axis=1)\n",
    "yi = amazon_data_wrang['ACTION']\n",
    "\n",
    "amazon_train_x, amazon_val_x, amazon_train_y, amazon_val_y = train_test_split(Xi, yi, random_state=46, test_size=0.5)\n",
    "amazon_feat_x, amazon_feat_y = pipeline_feature_selection.fit_resample(amazon_train_x, amazon_train_y)\n",
    "counter_test = Counter(feat_y)\n",
    "print(counter_test)\n",
    "\n",
    "dry_train_x, dry_val_x, dry_train_y, dry_val_y = train_test_split(amazon_feat_x, amazon_feat_y, random_state=46)\n",
    "amazon_experiment_data_X = select_features(data_split=dry_train_x)\n",
    "amazon_experiment_val_X = select_features(data_split=dry_val_x)\n",
    "counter_val = Counter(dry_val_y)\n",
    "print(counter_val)\n",
    "\n",
    "counter_train = Counter(dry_train_y)\n",
    "print(counter_train)\n",
    "\n",
    "amazon_cat_x = amazon_experiment_data_X.astype('category')\n",
    "amazon_cat_val_x = amazon_experiment_val_X.astype('category')\n",
    "\n",
    "xgb_model = xgb.XGBClassifier(objective=\"binary:logistic\", \n",
    "                               tree_method=\"gpu_hist\",\n",
    "                                eval_metric=['error', 'auc', 'logloss'], enable_categorical=True,\n",
    "                                n_jobs=-1, use_label_encoder=False,)\n",
    "\n",
    "\n",
    "xgb_model.fit(amazon_cat_x, dry_train_y,\n",
    "              eval_set=[(amazon_cat_x, dry_train_y), \n",
    "                (amazon_cat_val_x, dry_val_y)])\n",
    "\n",
    "\n",
    "# copy code\n",
    "# make predictions for test data\n",
    "y_pred = xgb_model.predict(amazon_cat_val_x)\n",
    "predictions = [round(value) for value in y_pred]\n",
    "# evaluate predictions\n",
    "auc_roc = roc_auc_score(dry_val_y, predictions)\n",
    "print(\"AUCROC: %.2f%%\" % (auc_roc))\n",
    "# retrieve performance metrics\n",
    "results = xgb_model.evals_result()\n",
    "epochs = len(results['validation_0']['error'])\n",
    "x_axis = range(0, epochs)\n",
    "# plot log loss\n",
    "fig, ax = plt.subplots()\n",
    "ax.plot(x_axis, results['validation_0']['auc'], label='Train')\n",
    "ax.plot(x_axis, results['validation_1']['auc'], label='Test')\n",
    "ax.legend()\n",
    "plt.ylabel('AUCROC')\n",
    "plt.title('XGBoost AUCROC')\n",
    "plt.show()\n",
    "# plot classification error\n",
    "fig, ax = plt.subplots()\n",
    "ax.plot(x_axis, results['validation_0']['error'], label='Train')\n",
    "ax.plot(x_axis, results['validation_1']['error'], label='Test')\n",
    "ax.legend()\n",
    "plt.ylabel('Classification Error')\n",
    "plt.title('XGBoost Classification Error')\n",
    "plt.show()\n",
    "# plot log loss\n",
    "fig, ax = plt.subplots()\n",
    "ax.plot(x_axis, results['validation_0']['logloss'], label='Train')\n",
    "ax.plot(x_axis, results['validation_1']['logloss'], label='Test')\n",
    "ax.legend()\n",
    "plt.ylabel('Log loss')\n",
    "plt.title('XGBoost Log loss')\n",
    "\n",
    "\n",
    "\n"
   ]
  },
  {
   "cell_type": "code",
   "execution_count": 30,
   "metadata": {},
   "outputs": [],
   "source": [
    "\n",
    "# # split data\n",
    "# Xi = amazon_data.drop(columns='ACTION', axis=1)\n",
    "# yi = amazon_data['ACTION']\n",
    "\n",
    "# amazon_train_x, amazon_val_x, amazon_train_y, amazon_val_y = train_test_split(Xi, yi, random_state=46, test_size=0.5)\n",
    "# amazon_feat_x, amazon_feat_y = pipeline_feature_selection.fit_resample(amazon_train_x, amazon_train_y)\n",
    "# counter_test = Counter(feat_y)\n",
    "# print(counter_test)\n",
    "\n",
    "# dry_train_x, dry_val_x, dry_train_y, dry_val_y = train_test_split(amazon_feat_x, amazon_feat_y, random_state=46)\n",
    "# amazon_experiment_data_X = select_features(data_split=dry_train_x)\n",
    "# amazon_experiment_val_X = select_features(data_split=dry_val_x)\n",
    "# counter_val = Counter(dry_val_y)\n",
    "# print(counter_val)\n",
    "\n",
    "# counter_train = Counter(dry_train_y)\n",
    "# print(counter_train)\n",
    "\n",
    "# amazon_cat_x = amazon_experiment_data_X.astype('category')\n",
    "# amazon_cat_val_x = amazon_experiment_val_X.astype('category')\n",
    "\n",
    "# cat_features = ['RESOURCE', 'MGR_ID', 'ROLE_FAMILY_DESC', 'ROLE_FAMILY']\n",
    "\n",
    "# cat_model = cat.CatBoostClassifier(iterations=50,\n",
    "#                            verbose=True,custom_metric=['AUC', 'Logloss'],\n",
    "#                            cat_features=cat_features)\n",
    "\n",
    "\n",
    "# cat_model.fit(amazon_experiment_data_X, dry_train_y, eval_set=(amazon_experiment_val_X, dry_val_y), silent=True)\n",
    "\n",
    "\n",
    "# # copy code\n",
    "# # make predictions for test data\n",
    "# y_pred = cat_model.predict(amazon_cat_val_x)\n",
    "# predictions = [round(value) for value in y_pred]\n",
    "# # evaluate predictions\n",
    "# auc_roc = roc_auc_score(dry_val_y, predictions)\n",
    "# print(\"AUCROC: %.2f%%\" % (auc_roc))\n",
    "# # retrieve performance metrics\n",
    "# results = cat_model.get_evals_result()\n",
    "# # print(results)\n",
    "# epochs = len(results['validation']['Logloss'])\n",
    "# x_axis = range(0, epochs)\n",
    "# # plot AUCROC\n",
    "# # fig, ax = plt.subplots()\n",
    "# # ax.plot(x_axis, results['learn']['AUC'], label='Train')\n",
    "# # ax.plot(x_axis, results['validation']['AUC'], label='Test')\n",
    "# # ax.legend()\n",
    "# # plt.ylabel('AUCROC')\n",
    "# # plt.title('XGBoost AUCROC')\n",
    "# # plt.show()\n",
    "# # # plot classification error\n",
    "# # fig, ax = plt.subplots()\n",
    "# # ax.plot(x_axis, results['validation_0']['error'], label='Train')\n",
    "# # ax.plot(x_axis, results['validation_1']['error'], label='Test')\n",
    "# # ax.legend()\n",
    "# # plt.ylabel('Classification Error')\n",
    "# # plt.title('XGBoost Classification Error')\n",
    "# # plt.show()\n",
    "# # plot log loss\n",
    "# fig, ax = plt.subplots()\n",
    "# ax.plot(x_axis, results['learn']['Logloss'], label='Train')\n",
    "# ax.plot(x_axis, results['validation']['Logloss'], label='Test')\n",
    "# ax.legend()\n",
    "# plt.ylabel('Log loss')\n",
    "# plt.title('XGBoost Log loss')"
   ]
  },
  {
   "cell_type": "code",
   "execution_count": 31,
   "metadata": {},
   "outputs": [],
   "source": [
    "# # split data\n",
    "# Xi = amazon_data.drop(columns='ACTION', axis=1)\n",
    "# yi = amazon_data['ACTION']\n",
    "\n",
    "# amazon_train_x, amazon_val_x, amazon_train_y, amazon_val_y = train_test_split(Xi, yi, random_state=46, test_size=0.5)\n",
    "# amazon_feat_x, amazon_feat_y = pipeline_feature_selection.fit_resample(amazon_train_x, amazon_train_y)\n",
    "# counter_test = Counter(feat_y)\n",
    "# print(counter_test)\n",
    "\n",
    "# dry_train_x, dry_val_x, dry_train_y, dry_val_y = train_test_split(amazon_feat_x, amazon_feat_y, random_state=46)\n",
    "# amazon_experiment_data_X = select_features(data_split=dry_train_x)\n",
    "# amazon_experiment_val_X = select_features(data_split=dry_val_x)\n",
    "# counter_val = Counter(dry_val_y)\n",
    "# print(counter_val)\n",
    "\n",
    "# counter_train = Counter(dry_train_y)\n",
    "# print(counter_train)\n",
    "\n",
    "# amazon_cat_x = amazon_experiment_data_X.astype('category')\n",
    "# amazon_cat_val_x = amazon_experiment_val_X.astype('category')\n",
    "\n",
    "# cat_features = ['RESOURCE', 'MGR_ID', 'ROLE_FAMILY_DESC', 'ROLE_FAMILY']\n",
    "\n",
    "# model = cat.CatBoost(params={'cat_features': cat_features})\n",
    "\n",
    "# grid = {'learning_rate': [0.03, 0.1],\n",
    "#         'depth': [4, 6, 10],\n",
    "#         'l2_leaf_reg': [1, 3, 5, 7, 9],\n",
    "#         }\n",
    "\n",
    "# grid_search_result = model.grid_search(grid, \n",
    "#                                        X=amazon_experiment_data_X, \n",
    "#                                        y=dry_train_y,\n",
    "#                                        )\n",
    "\n",
    "# print(grid_search_result['params'])\n",
    "# best_params = {'depth': 4, 'l2_leaf_reg': 1, 'learning_rate': 0.1}"
   ]
  }
 ],
 "metadata": {
  "interpreter": {
   "hash": "1e149a8b79cc707f916b545e69426431668035f291b1c476f6041e051f372ec1"
  },
  "kernelspec": {
   "display_name": "Python 3.10.1 64-bit ('.venv': venv)",
   "language": "python",
   "name": "python3"
  },
  "language_info": {
   "codemirror_mode": {
    "name": "ipython",
    "version": 3
   },
   "file_extension": ".py",
   "mimetype": "text/x-python",
   "name": "python",
   "nbconvert_exporter": "python",
   "pygments_lexer": "ipython3",
   "version": "3.9.7"
  },
  "orig_nbformat": 4
 },
 "nbformat": 4,
 "nbformat_minor": 2
}
