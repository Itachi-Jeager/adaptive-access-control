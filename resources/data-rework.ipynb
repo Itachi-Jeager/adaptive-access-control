{
 "cells": [
  {
   "cell_type": "code",
   "execution_count": 1,
   "metadata": {},
   "outputs": [],
   "source": [
    "# import required modules\n",
    "import pandas as pd\n",
    "from pandas import DataFrame\n",
    "from typing import Dict, List\n",
    "import numpy as np\n",
    "\n",
    "from imblearn.pipeline import Pipeline\n",
    "from imblearn.combine import SMOTEENN\n",
    "from imblearn.under_sampling import EditedNearestNeighbours\n",
    "from imblearn.over_sampling import SMOTE, SMOTEN\n",
    "from collections import Counter\n",
    "\n",
    "from sklearn.model_selection import train_test_split, GridSearchCV, StratifiedKFold, RepeatedStratifiedKFold, cross_validate\n",
    "\n",
    "\n",
    "# from multiprocessing import Pool\n",
    "# from numpy import mean\n",
    "# from numpy import std\n",
    "# # from sklearn.model_selection import cross_val_score\n",
    "# # from sklearn.model_selection import cross_validate\n",
    "# # from sklearn.model_selection import RepeatedStratifiedKFold\n",
    "# from sklearn.linear_model import LogisticRegression\n",
    "# from sklearn.tree import DecisionTreeClassifier\n",
    "# from sklearn.svm import SVC\n",
    "# from sklearn.neighbors import KNeighborsClassifier\n",
    "# # from sklearn.ensemble import StackingClassifier\n",
    "# from sklearn.naive_bayes import GaussianNB\n",
    "# from sklearn.neural_network import MLPClassifier\n",
    "# from sklearn.ensemble import RandomForestClassifier\n",
    "# from sklearn.ensemble import AdaBoostClassifier\n",
    "# from sklearn.ensemble import BaggingClassifier\n",
    "# import xgboost as xgb\n",
    "# import catboost as cat\n",
    "\n",
    "# from sklearn.metrics import matthews_corrcoef \n",
    "# from sklearn.metrics import make_scorer\n",
    "# import time\n",
    "# import sklearn\n",
    "\n",
    "import matplotlib.pyplot as plt\n",
    "import seaborn as sns"
   ]
  },
  {
   "cell_type": "code",
   "execution_count": 2,
   "metadata": {},
   "outputs": [
    {
     "name": "stdout",
     "output_type": "stream",
     "text": [
      "<class 'pandas.core.frame.DataFrame'>\n",
      "RangeIndex: 32769 entries, 0 to 32768\n",
      "Data columns (total 10 columns):\n",
      " #   Column            Non-Null Count  Dtype\n",
      "---  ------            --------------  -----\n",
      " 0   ACTION            32769 non-null  int64\n",
      " 1   RESOURCE          32769 non-null  int64\n",
      " 2   MGR_ID            32769 non-null  int64\n",
      " 3   ROLE_ROLLUP_1     32769 non-null  int64\n",
      " 4   ROLE_ROLLUP_2     32769 non-null  int64\n",
      " 5   ROLE_DEPTNAME     32769 non-null  int64\n",
      " 6   ROLE_TITLE        32769 non-null  int64\n",
      " 7   ROLE_FAMILY_DESC  32769 non-null  int64\n",
      " 8   ROLE_FAMILY       32769 non-null  int64\n",
      " 9   ROLE_CODE         32769 non-null  int64\n",
      "dtypes: int64(10)\n",
      "memory usage: 2.5 MB\n"
     ]
    }
   ],
   "source": [
    "# import data\n",
    "amazon_data = pd.read_csv(\"./datasets/train.csv\")\n",
    "\n",
    "# check data details\n",
    "amazon_data.info()\n"
   ]
  },
  {
   "cell_type": "code",
   "execution_count": 3,
   "metadata": {},
   "outputs": [
    {
     "name": "stdout",
     "output_type": "stream",
     "text": [
      "<class 'pandas.core.frame.DataFrame'>\n",
      "RangeIndex: 32769 entries, 0 to 32768\n",
      "Data columns (total 5 columns):\n",
      " #   Column                Non-Null Count  Dtype\n",
      "---  ------                --------------  -----\n",
      " 0   user_context          32769 non-null  int64\n",
      " 1   resource_sensitivity  32769 non-null  int64\n",
      " 2   action_severity       32769 non-null  int64\n",
      " 3   risk_history          32769 non-null  int64\n",
      " 4   decision              32769 non-null  int64\n",
      "dtypes: int64(5)\n",
      "memory usage: 1.3 MB\n"
     ]
    }
   ],
   "source": [
    "access_control_df = amazon_data[['RESOURCE', 'MGR_ID', 'ROLE_FAMILY_DESC', 'ROLE_FAMILY', 'ACTION']]\n",
    "\n",
    "new_names_acc_control = access_control_df.rename(columns={\"RESOURCE\": \"user_context\",\n",
    "                                  \"MGR_ID\": \"resource_sensitivity\",\n",
    "                                  \"ROLE_FAMILY_DESC\": \"action_severity\",\n",
    "                                  \"ROLE_FAMILY\": \"risk_history\",\n",
    "                                  \"ACTION\": \"decision\"})\n",
    "\n",
    "new_names_acc_control.info()"
   ]
  },
  {
   "cell_type": "code",
   "execution_count": 4,
   "metadata": {},
   "outputs": [],
   "source": [
    "new_names_acc_control.to_csv('./datasets/access_control.csv', index=False)"
   ]
  },
  {
   "cell_type": "code",
   "execution_count": 5,
   "metadata": {},
   "outputs": [
    {
     "name": "stdout",
     "output_type": "stream",
     "text": [
      "<class 'pandas.core.frame.DataFrame'>\n",
      "RangeIndex: 32769 entries, 0 to 32768\n",
      "Data columns (total 5 columns):\n",
      " #   Column                Non-Null Count  Dtype\n",
      "---  ------                --------------  -----\n",
      " 0   user_context          32769 non-null  int64\n",
      " 1   resource_sensitivity  32769 non-null  int64\n",
      " 2   action_severity       32769 non-null  int64\n",
      " 3   risk_history          32769 non-null  int64\n",
      " 4   decision              32769 non-null  int64\n",
      "dtypes: int64(5)\n",
      "memory usage: 1.3 MB\n"
     ]
    }
   ],
   "source": [
    "synth_df = pd.read_csv('./datasets/access_control.csv')\n",
    "\n",
    "synth_df.info()"
   ]
  }
 ],
 "metadata": {
  "interpreter": {
   "hash": "d25071dfc8b5e25731dd21f912210bfb6403d68f7e514eaf9bb13b51fb3134c2"
  },
  "kernelspec": {
   "display_name": "Python 3.9.7 ('acc-control')",
   "language": "python",
   "name": "python3"
  },
  "language_info": {
   "codemirror_mode": {
    "name": "ipython",
    "version": 3
   },
   "file_extension": ".py",
   "mimetype": "text/x-python",
   "name": "python",
   "nbconvert_exporter": "python",
   "pygments_lexer": "ipython3",
   "version": "3.9.7"
  },
  "orig_nbformat": 4
 },
 "nbformat": 4,
 "nbformat_minor": 2
}
